{
 "cells": [
  {
   "cell_type": "code",
   "execution_count": 1,
   "id": "1097e66a",
   "metadata": {},
   "outputs": [],
   "source": [
    "import numpy as np\n",
    "import wbdata\n",
    "import pandas as pd\n",
    "import datetime\n",
    "\n",
    "indicators = {\n",
    "    \"NY.GDP.PCAP.CD\": \"GDP per Capita (current US$)\",\n",
    "    \"SP.DYN.IMRT.IN\": \"Infant Mortality Rate (per 1,000 live births)\",\n",
    "    \"SE.ADT.LITR.FE.ZS\": \"Literacy rate, adult female (% of females ages 15 and above)\"\n",
    "}\n",
    "\n",
    "data = {}\n",
    "for indicator in indicators.keys():\n",
    "    data[indicator] = wbdata.get_dataframe({indicator: \"value\"}, date=\"2021\")\n",
    "\n",
    "df = pd.concat(data, axis=1)\n",
    "df.reset_index(inplace=True)\n",
    "df.columns = [\n",
    "'Country', \n",
    "'GDP per Capita (current US$)', \n",
    "'Infant Mortality Rate (per 1,000 live births)', \n",
    "'Literacy rate, adult female (% of females ages 15 and above)'\n",
    "]\n",
    "\n",
    "df_cleaned = df.dropna()"
   ]
  },
  {
   "cell_type": "code",
   "execution_count": 2,
   "id": "bbde3d82",
   "metadata": {},
   "outputs": [
    {
     "name": "stdout",
     "output_type": "stream",
     "text": [
      "GDP & Literacy Rate: Correlation=0.523531861152508, P-value=7.39436715328683e-07\n",
      "GDP & Infant Mortality Rate: Correlation=-0.5673973881872082, P-value=4.9695365349187675e-08\n",
      "Infant Mortality Rate & Literacy Rate: Correlation=-0.9015280073835649, P-value=9.750855190174557e-30\n"
     ]
    }
   ],
   "source": [
    "from scipy.stats import pearsonr\n",
    "\n",
    "# GDP per Capita and Literacy Rate\n",
    "corr_gdp_lit, p_value_gdp_lit = pearsonr(df_cleaned['GDP per Capita (current US$)'], df_cleaned['Literacy rate, adult female (% of females ages 15 and above)'])\n",
    "\n",
    "# GDP per Capita and Infant Mortality Rate\n",
    "corr_gdp_infant, p_value_gdp_infant = pearsonr(df_cleaned['GDP per Capita (current US$)'], df_cleaned['Infant Mortality Rate (per 1,000 live births)'])\n",
    "\n",
    "# Infant Mortality Rate and Literacy Rate\n",
    "corr_infant_lit, p_value_infant_lit = pearsonr(df_cleaned['Infant Mortality Rate (per 1,000 live births)'], df_cleaned['Literacy rate, adult female (% of females ages 15 and above)'])\n",
    "\n",
    "print(f\"GDP & Literacy Rate: Correlation={corr_gdp_lit}, P-value={p_value_gdp_lit}\")\n",
    "print(f\"GDP & Infant Mortality Rate: Correlation={corr_gdp_infant}, P-value={p_value_gdp_infant}\")\n",
    "print(f\"Infant Mortality Rate & Literacy Rate: Correlation={corr_infant_lit}, P-value={p_value_infant_lit}\")"
   ]
  },
  {
   "cell_type": "code",
   "execution_count": 6,
   "id": "65c12283",
   "metadata": {},
   "outputs": [
    {
     "data": {
      "application/vnd.plotly.v1+json": {
       "config": {
        "plotlyServerURL": "https://plot.ly"
       },
       "data": [
        {
         "hovertemplate": "<b>%{hovertext}</b><br><br>GDP Per Capita=%{x}<br>Female Literacy Rate (%)=%{y}<br>Infant Mortality Rate=%{marker.size}<extra></extra>",
         "hovertext": [
          "Africa Eastern and Southern",
          "Africa Western and Central",
          "Arab World",
          "Central Europe and the Baltics",
          "Early-demographic dividend",
          "East Asia & Pacific",
          "East Asia & Pacific (excluding high income)",
          "East Asia & Pacific (IDA & IBRD countries)",
          "Europe & Central Asia",
          "Europe & Central Asia (excluding high income)",
          "Europe & Central Asia (IDA & IBRD countries)",
          "Fragile and conflict affected situations",
          "Heavily indebted poor countries (HIPC)",
          "IBRD only",
          "IDA & IBRD total",
          "IDA blend",
          "IDA only",
          "IDA total",
          "Late-demographic dividend",
          "Latin America & Caribbean",
          "Latin America & Caribbean (excluding high income)",
          "Latin America & the Caribbean (IDA & IBRD countries)",
          "Least developed countries: UN classification",
          "Low & middle income",
          "Low income",
          "Lower middle income",
          "Middle East & North Africa",
          "Middle East & North Africa (excluding high income)",
          "Middle East & North Africa (IDA & IBRD countries)",
          "Middle income",
          "North America",
          "OECD members",
          "Other small states",
          "Pre-demographic dividend",
          "Small states",
          "South Asia",
          "South Asia (IDA & IBRD)",
          "Sub-Saharan Africa",
          "Sub-Saharan Africa (excluding high income)",
          "Sub-Saharan Africa (IDA & IBRD countries)",
          "Upper middle income",
          "World",
          "Afghanistan",
          "Brunei Darussalam",
          "Bulgaria",
          "Congo, Rep.",
          "Costa Rica",
          "Croatia",
          "Cyprus",
          "Ecuador",
          "Estonia",
          "Guinea",
          "Hungary",
          "Jordan",
          "Latvia",
          "Lithuania",
          "Maldives",
          "Malta",
          "Mauritania",
          "Mauritius",
          "Moldova",
          "Montenegro",
          "Namibia",
          "Nepal",
          "Poland",
          "Portugal",
          "Romania",
          "Russian Federation",
          "Rwanda",
          "Samoa",
          "South Africa",
          "Sri Lanka",
          "Suriname",
          "Thailand",
          "Tonga",
          "Ukraine",
          "United Arab Emirates",
          "Uzbekistan",
          "Vanuatu"
         ],
         "legendgroup": "",
         "marker": {
          "color": "#636efa",
          "size": [
           42.0042107259112,
           60.749633218817,
           25.9793719398798,
           3.87205049749413,
           26.1354636229444,
           11.8,
           12.4730192019674,
           12.5097654139864,
           6.5,
           9.5722623681704,
           9.03661419387849,
           51.5755911078025,
           45.8029203609051,
           17.5450478558544,
           30.7050742600378,
           55.4259800151236,
           42.3855176003618,
           46.7743344398024,
           7.8061316555499,
           13.6,
           13.4455186867794,
           13.692414626478,
           43.6749059047884,
           30.8393226925758,
           47.4,
           33,
           18.1,
           19.6811863932446,
           19.7977147255854,
           26.8346366323156,
           5.3,
           5.56906550672951,
           33.6770321783368,
           52.1414930659126,
           30.4072845467373,
           30.8,
           30.7784609642552,
           49.9,
           49.9461619965341,
           49.9446395378389,
           9.6,
           28.4,
           43.4,
           9.6,
           5.3,
           32,
           6.2,
           3.9,
           2.3,
           10.7,
           1.6,
           63.8,
           3.3,
           12.6,
           3.2,
           2.7,
           5.1,
           5.1,
           32.2,
           15.3,
           12.2,
           1.9,
           29.4,
           22.8,
           3.7,
           2.5,
           5.3,
           4.1,
           29.7,
           14.4,
           26.4,
           5.8,
           15.4,
           7.1,
           9.6,
           7,
           5.4,
           12.6,
           19.7
          ],
          "sizemode": "area",
          "sizeref": 0.017722222222222223,
          "symbol": "circle"
         },
         "mode": "markers",
         "name": "",
         "orientation": "v",
         "showlegend": false,
         "type": "scatter",
         "x": [
          1545.61321503478,
          1766.94361767929,
          6419.16102915581,
          18814.1458170436,
          3727.93383484603,
          13138.7246689239,
          9813.00226050914,
          9922.04350030871,
          27420.8134260688,
          8912.81407575584,
          9982.81222980684,
          1779.3132913511,
          1047.07519807515,
          7284.44912688649,
          5718.69000304404,
          1844.3200096414,
          1272.35034846518,
          1461.41110872837,
          11556.4864563168,
          8478.6334058771,
          7873.98078159932,
          8262.54208532494,
          1153.2744131558,
          5526.29613463755,
          678.653210032779,
          2405.60357592672,
          7696.00660755537,
          3590.64385329545,
          3589.59535190625,
          6085.76413323992,
          68399.102745446,
          42731.2889452911,
          13975.166508629,
          1417.16418953831,
          12682.8172192726,
          2136.19289074982,
          2136.19289074982,
          1635.21734094322,
          1634.26533568468,
          1635.21734094322,
          10271.8014880384,
          12316.102461459,
          355.777826392648,
          31448.9127482937,
          12219.3418706779,
          2540.47321153317,
          12604.0488374731,
          17809.0323901126,
          32745.84375,
          5965.13287054416,
          27943.701219882,
          1189.17599945874,
          18753.0469453539,
          4152.75795426388,
          20930.3982374189,
          23849.6156993566,
          10076.3175303966,
          34881.2912726609,
          1998.39400265586,
          9068.98018051209,
          5274.74484719747,
          9465.96153027794,
          4919.18895548026,
          1229.39420516246,
          18050.2794441161,
          24661.1664874576,
          14946.624968678,
          12532.05078125,
          821.171394808138,
          3857.68974206459,
          7073.61275411821,
          3996.57199501251,
          5026.87949279073,
          7060.89770696418,
          4425.97149198516,
          4827.845703125,
          44332.3400513163,
          1993.42447787206,
          3044.57364031957
         ],
         "xaxis": "x",
         "y": [
          67.4540100097656,
          51.6556091308594,
          67.8748931884766,
          99.3508377075195,
          74.9784927368164,
          94.5390472412109,
          94.8024597167969,
          94.7359008789062,
          98.1425933837891,
          98.9141311645508,
          98.9848709106445,
          58.7563896179199,
          58.2435417175293,
          86.3695983886719,
          80.8308181762695,
          59.0784111022949,
          63.244571685791,
          61.8951683044434,
          95.346321105957,
          94.1233520507812,
          93.8251190185547,
          94.0236511230469,
          60.1137886047363,
          80.5986328125,
          54.0468482971191,
          71.0304107666016,
          73.4363021850586,
          70.4972991943359,
          70.210693359375,
          82.9822006225586,
          98.7035827636719,
          96.5339965820312,
          83.1045074462891,
          57.2519187927246,
          85.2431716918945,
          65.5588989257812,
          65.5588989257812,
          61.254451751709,
          61.2505111694336,
          61.254451751709,
          94.6587524414062,
          83.5056228637695,
          22.6007804870605,
          96.8600006103516,
          98.1699981689453,
          75.370002746582,
          98.0999984741211,
          99.2399978637695,
          99.1500015258789,
          94.0484924316406,
          99.879997253418,
          31.2700004577637,
          99.0999984741211,
          98.129997253418,
          99.9100036621094,
          99.8499984741211,
          98.4100036621094,
          96.4199981689453,
          62.1699981689453,
          90.4599990844727,
          99.5,
          98.5400009155273,
          92.3300018310547,
          63.3300018310547,
          99.8000030517578,
          95.9199981689453,
          98.6999969482422,
          99.9357223510742,
          73.3000030517578,
          99.3000030517578,
          89.3661193847656,
          91.6362075805664,
          93.4000015258789,
          92.8000030517578,
          99.5,
          100,
          97.170768737793,
          99.9959030151367,
          88.4000015258789
         ],
         "yaxis": "y"
        }
       ],
       "layout": {
        "legend": {
         "itemsizing": "constant",
         "tracegroupgap": 0
        },
        "plot_bgcolor": "white",
        "showlegend": false,
        "template": {
         "data": {
          "bar": [
           {
            "error_x": {
             "color": "#2a3f5f"
            },
            "error_y": {
             "color": "#2a3f5f"
            },
            "marker": {
             "line": {
              "color": "#E5ECF6",
              "width": 0.5
             },
             "pattern": {
              "fillmode": "overlay",
              "size": 10,
              "solidity": 0.2
             }
            },
            "type": "bar"
           }
          ],
          "barpolar": [
           {
            "marker": {
             "line": {
              "color": "#E5ECF6",
              "width": 0.5
             },
             "pattern": {
              "fillmode": "overlay",
              "size": 10,
              "solidity": 0.2
             }
            },
            "type": "barpolar"
           }
          ],
          "carpet": [
           {
            "aaxis": {
             "endlinecolor": "#2a3f5f",
             "gridcolor": "white",
             "linecolor": "white",
             "minorgridcolor": "white",
             "startlinecolor": "#2a3f5f"
            },
            "baxis": {
             "endlinecolor": "#2a3f5f",
             "gridcolor": "white",
             "linecolor": "white",
             "minorgridcolor": "white",
             "startlinecolor": "#2a3f5f"
            },
            "type": "carpet"
           }
          ],
          "choropleth": [
           {
            "colorbar": {
             "outlinewidth": 0,
             "ticks": ""
            },
            "type": "choropleth"
           }
          ],
          "contour": [
           {
            "colorbar": {
             "outlinewidth": 0,
             "ticks": ""
            },
            "colorscale": [
             [
              0,
              "#0d0887"
             ],
             [
              0.1111111111111111,
              "#46039f"
             ],
             [
              0.2222222222222222,
              "#7201a8"
             ],
             [
              0.3333333333333333,
              "#9c179e"
             ],
             [
              0.4444444444444444,
              "#bd3786"
             ],
             [
              0.5555555555555556,
              "#d8576b"
             ],
             [
              0.6666666666666666,
              "#ed7953"
             ],
             [
              0.7777777777777778,
              "#fb9f3a"
             ],
             [
              0.8888888888888888,
              "#fdca26"
             ],
             [
              1,
              "#f0f921"
             ]
            ],
            "type": "contour"
           }
          ],
          "contourcarpet": [
           {
            "colorbar": {
             "outlinewidth": 0,
             "ticks": ""
            },
            "type": "contourcarpet"
           }
          ],
          "heatmap": [
           {
            "colorbar": {
             "outlinewidth": 0,
             "ticks": ""
            },
            "colorscale": [
             [
              0,
              "#0d0887"
             ],
             [
              0.1111111111111111,
              "#46039f"
             ],
             [
              0.2222222222222222,
              "#7201a8"
             ],
             [
              0.3333333333333333,
              "#9c179e"
             ],
             [
              0.4444444444444444,
              "#bd3786"
             ],
             [
              0.5555555555555556,
              "#d8576b"
             ],
             [
              0.6666666666666666,
              "#ed7953"
             ],
             [
              0.7777777777777778,
              "#fb9f3a"
             ],
             [
              0.8888888888888888,
              "#fdca26"
             ],
             [
              1,
              "#f0f921"
             ]
            ],
            "type": "heatmap"
           }
          ],
          "heatmapgl": [
           {
            "colorbar": {
             "outlinewidth": 0,
             "ticks": ""
            },
            "colorscale": [
             [
              0,
              "#0d0887"
             ],
             [
              0.1111111111111111,
              "#46039f"
             ],
             [
              0.2222222222222222,
              "#7201a8"
             ],
             [
              0.3333333333333333,
              "#9c179e"
             ],
             [
              0.4444444444444444,
              "#bd3786"
             ],
             [
              0.5555555555555556,
              "#d8576b"
             ],
             [
              0.6666666666666666,
              "#ed7953"
             ],
             [
              0.7777777777777778,
              "#fb9f3a"
             ],
             [
              0.8888888888888888,
              "#fdca26"
             ],
             [
              1,
              "#f0f921"
             ]
            ],
            "type": "heatmapgl"
           }
          ],
          "histogram": [
           {
            "marker": {
             "pattern": {
              "fillmode": "overlay",
              "size": 10,
              "solidity": 0.2
             }
            },
            "type": "histogram"
           }
          ],
          "histogram2d": [
           {
            "colorbar": {
             "outlinewidth": 0,
             "ticks": ""
            },
            "colorscale": [
             [
              0,
              "#0d0887"
             ],
             [
              0.1111111111111111,
              "#46039f"
             ],
             [
              0.2222222222222222,
              "#7201a8"
             ],
             [
              0.3333333333333333,
              "#9c179e"
             ],
             [
              0.4444444444444444,
              "#bd3786"
             ],
             [
              0.5555555555555556,
              "#d8576b"
             ],
             [
              0.6666666666666666,
              "#ed7953"
             ],
             [
              0.7777777777777778,
              "#fb9f3a"
             ],
             [
              0.8888888888888888,
              "#fdca26"
             ],
             [
              1,
              "#f0f921"
             ]
            ],
            "type": "histogram2d"
           }
          ],
          "histogram2dcontour": [
           {
            "colorbar": {
             "outlinewidth": 0,
             "ticks": ""
            },
            "colorscale": [
             [
              0,
              "#0d0887"
             ],
             [
              0.1111111111111111,
              "#46039f"
             ],
             [
              0.2222222222222222,
              "#7201a8"
             ],
             [
              0.3333333333333333,
              "#9c179e"
             ],
             [
              0.4444444444444444,
              "#bd3786"
             ],
             [
              0.5555555555555556,
              "#d8576b"
             ],
             [
              0.6666666666666666,
              "#ed7953"
             ],
             [
              0.7777777777777778,
              "#fb9f3a"
             ],
             [
              0.8888888888888888,
              "#fdca26"
             ],
             [
              1,
              "#f0f921"
             ]
            ],
            "type": "histogram2dcontour"
           }
          ],
          "mesh3d": [
           {
            "colorbar": {
             "outlinewidth": 0,
             "ticks": ""
            },
            "type": "mesh3d"
           }
          ],
          "parcoords": [
           {
            "line": {
             "colorbar": {
              "outlinewidth": 0,
              "ticks": ""
             }
            },
            "type": "parcoords"
           }
          ],
          "pie": [
           {
            "automargin": true,
            "type": "pie"
           }
          ],
          "scatter": [
           {
            "fillpattern": {
             "fillmode": "overlay",
             "size": 10,
             "solidity": 0.2
            },
            "type": "scatter"
           }
          ],
          "scatter3d": [
           {
            "line": {
             "colorbar": {
              "outlinewidth": 0,
              "ticks": ""
             }
            },
            "marker": {
             "colorbar": {
              "outlinewidth": 0,
              "ticks": ""
             }
            },
            "type": "scatter3d"
           }
          ],
          "scattercarpet": [
           {
            "marker": {
             "colorbar": {
              "outlinewidth": 0,
              "ticks": ""
             }
            },
            "type": "scattercarpet"
           }
          ],
          "scattergeo": [
           {
            "marker": {
             "colorbar": {
              "outlinewidth": 0,
              "ticks": ""
             }
            },
            "type": "scattergeo"
           }
          ],
          "scattergl": [
           {
            "marker": {
             "colorbar": {
              "outlinewidth": 0,
              "ticks": ""
             }
            },
            "type": "scattergl"
           }
          ],
          "scattermapbox": [
           {
            "marker": {
             "colorbar": {
              "outlinewidth": 0,
              "ticks": ""
             }
            },
            "type": "scattermapbox"
           }
          ],
          "scatterpolar": [
           {
            "marker": {
             "colorbar": {
              "outlinewidth": 0,
              "ticks": ""
             }
            },
            "type": "scatterpolar"
           }
          ],
          "scatterpolargl": [
           {
            "marker": {
             "colorbar": {
              "outlinewidth": 0,
              "ticks": ""
             }
            },
            "type": "scatterpolargl"
           }
          ],
          "scatterternary": [
           {
            "marker": {
             "colorbar": {
              "outlinewidth": 0,
              "ticks": ""
             }
            },
            "type": "scatterternary"
           }
          ],
          "surface": [
           {
            "colorbar": {
             "outlinewidth": 0,
             "ticks": ""
            },
            "colorscale": [
             [
              0,
              "#0d0887"
             ],
             [
              0.1111111111111111,
              "#46039f"
             ],
             [
              0.2222222222222222,
              "#7201a8"
             ],
             [
              0.3333333333333333,
              "#9c179e"
             ],
             [
              0.4444444444444444,
              "#bd3786"
             ],
             [
              0.5555555555555556,
              "#d8576b"
             ],
             [
              0.6666666666666666,
              "#ed7953"
             ],
             [
              0.7777777777777778,
              "#fb9f3a"
             ],
             [
              0.8888888888888888,
              "#fdca26"
             ],
             [
              1,
              "#f0f921"
             ]
            ],
            "type": "surface"
           }
          ],
          "table": [
           {
            "cells": {
             "fill": {
              "color": "#EBF0F8"
             },
             "line": {
              "color": "white"
             }
            },
            "header": {
             "fill": {
              "color": "#C8D4E3"
             },
             "line": {
              "color": "white"
             }
            },
            "type": "table"
           }
          ]
         },
         "layout": {
          "annotationdefaults": {
           "arrowcolor": "#2a3f5f",
           "arrowhead": 0,
           "arrowwidth": 1
          },
          "autotypenumbers": "strict",
          "coloraxis": {
           "colorbar": {
            "outlinewidth": 0,
            "ticks": ""
           }
          },
          "colorscale": {
           "diverging": [
            [
             0,
             "#8e0152"
            ],
            [
             0.1,
             "#c51b7d"
            ],
            [
             0.2,
             "#de77ae"
            ],
            [
             0.3,
             "#f1b6da"
            ],
            [
             0.4,
             "#fde0ef"
            ],
            [
             0.5,
             "#f7f7f7"
            ],
            [
             0.6,
             "#e6f5d0"
            ],
            [
             0.7,
             "#b8e186"
            ],
            [
             0.8,
             "#7fbc41"
            ],
            [
             0.9,
             "#4d9221"
            ],
            [
             1,
             "#276419"
            ]
           ],
           "sequential": [
            [
             0,
             "#0d0887"
            ],
            [
             0.1111111111111111,
             "#46039f"
            ],
            [
             0.2222222222222222,
             "#7201a8"
            ],
            [
             0.3333333333333333,
             "#9c179e"
            ],
            [
             0.4444444444444444,
             "#bd3786"
            ],
            [
             0.5555555555555556,
             "#d8576b"
            ],
            [
             0.6666666666666666,
             "#ed7953"
            ],
            [
             0.7777777777777778,
             "#fb9f3a"
            ],
            [
             0.8888888888888888,
             "#fdca26"
            ],
            [
             1,
             "#f0f921"
            ]
           ],
           "sequentialminus": [
            [
             0,
             "#0d0887"
            ],
            [
             0.1111111111111111,
             "#46039f"
            ],
            [
             0.2222222222222222,
             "#7201a8"
            ],
            [
             0.3333333333333333,
             "#9c179e"
            ],
            [
             0.4444444444444444,
             "#bd3786"
            ],
            [
             0.5555555555555556,
             "#d8576b"
            ],
            [
             0.6666666666666666,
             "#ed7953"
            ],
            [
             0.7777777777777778,
             "#fb9f3a"
            ],
            [
             0.8888888888888888,
             "#fdca26"
            ],
            [
             1,
             "#f0f921"
            ]
           ]
          },
          "colorway": [
           "#636efa",
           "#EF553B",
           "#00cc96",
           "#ab63fa",
           "#FFA15A",
           "#19d3f3",
           "#FF6692",
           "#B6E880",
           "#FF97FF",
           "#FECB52"
          ],
          "font": {
           "color": "#2a3f5f"
          },
          "geo": {
           "bgcolor": "white",
           "lakecolor": "white",
           "landcolor": "#E5ECF6",
           "showlakes": true,
           "showland": true,
           "subunitcolor": "white"
          },
          "hoverlabel": {
           "align": "left"
          },
          "hovermode": "closest",
          "mapbox": {
           "style": "light"
          },
          "paper_bgcolor": "white",
          "plot_bgcolor": "#E5ECF6",
          "polar": {
           "angularaxis": {
            "gridcolor": "white",
            "linecolor": "white",
            "ticks": ""
           },
           "bgcolor": "#E5ECF6",
           "radialaxis": {
            "gridcolor": "white",
            "linecolor": "white",
            "ticks": ""
           }
          },
          "scene": {
           "xaxis": {
            "backgroundcolor": "#E5ECF6",
            "gridcolor": "white",
            "gridwidth": 2,
            "linecolor": "white",
            "showbackground": true,
            "ticks": "",
            "zerolinecolor": "white"
           },
           "yaxis": {
            "backgroundcolor": "#E5ECF6",
            "gridcolor": "white",
            "gridwidth": 2,
            "linecolor": "white",
            "showbackground": true,
            "ticks": "",
            "zerolinecolor": "white"
           },
           "zaxis": {
            "backgroundcolor": "#E5ECF6",
            "gridcolor": "white",
            "gridwidth": 2,
            "linecolor": "white",
            "showbackground": true,
            "ticks": "",
            "zerolinecolor": "white"
           }
          },
          "shapedefaults": {
           "line": {
            "color": "#2a3f5f"
           }
          },
          "ternary": {
           "aaxis": {
            "gridcolor": "white",
            "linecolor": "white",
            "ticks": ""
           },
           "baxis": {
            "gridcolor": "white",
            "linecolor": "white",
            "ticks": ""
           },
           "bgcolor": "#E5ECF6",
           "caxis": {
            "gridcolor": "white",
            "linecolor": "white",
            "ticks": ""
           }
          },
          "title": {
           "x": 0.05
          },
          "xaxis": {
           "automargin": true,
           "gridcolor": "white",
           "linecolor": "white",
           "ticks": "",
           "title": {
            "standoff": 15
           },
           "zerolinecolor": "white",
           "zerolinewidth": 2
          },
          "yaxis": {
           "automargin": true,
           "gridcolor": "white",
           "linecolor": "white",
           "ticks": "",
           "title": {
            "standoff": 15
           },
           "zerolinecolor": "white",
           "zerolinewidth": 2
          }
         }
        },
        "title": {
         "text": "Female Literacy vs. GDP Per Capita (2021)"
        },
        "xaxis": {
         "anchor": "y",
         "domain": [
          0,
          1
         ],
         "linecolor": "black",
         "showgrid": false,
         "showline": true,
         "title": {
          "text": "GDP Per Capita"
         }
        },
        "yaxis": {
         "anchor": "x",
         "domain": [
          0,
          1
         ],
         "linecolor": "black",
         "showgrid": false,
         "showline": true,
         "title": {
          "text": "Female Literacy Rate (%)"
         }
        }
       }
      },
      "text/html": [
       "<div>                            <div id=\"e66106a5-f81f-499b-9fb9-2014ef80f242\" class=\"plotly-graph-div\" style=\"height:525px; width:100%;\"></div>            <script type=\"text/javascript\">                require([\"plotly\"], function(Plotly) {                    window.PLOTLYENV=window.PLOTLYENV || {};                                    if (document.getElementById(\"e66106a5-f81f-499b-9fb9-2014ef80f242\")) {                    Plotly.newPlot(                        \"e66106a5-f81f-499b-9fb9-2014ef80f242\",                        [{\"hovertemplate\":\"<b>%{hovertext}</b><br><br>GDP Per Capita=%{x}<br>Female Literacy Rate (%)=%{y}<br>Infant Mortality Rate=%{marker.size}<extra></extra>\",\"hovertext\":[\"Africa Eastern and Southern\",\"Africa Western and Central\",\"Arab World\",\"Central Europe and the Baltics\",\"Early-demographic dividend\",\"East Asia & Pacific\",\"East Asia & Pacific (excluding high income)\",\"East Asia & Pacific (IDA & IBRD countries)\",\"Europe & Central Asia\",\"Europe & Central Asia (excluding high income)\",\"Europe & Central Asia (IDA & IBRD countries)\",\"Fragile and conflict affected situations\",\"Heavily indebted poor countries (HIPC)\",\"IBRD only\",\"IDA & IBRD total\",\"IDA blend\",\"IDA only\",\"IDA total\",\"Late-demographic dividend\",\"Latin America & Caribbean\",\"Latin America & Caribbean (excluding high income)\",\"Latin America & the Caribbean (IDA & IBRD countries)\",\"Least developed countries: UN classification\",\"Low & middle income\",\"Low income\",\"Lower middle income\",\"Middle East & North Africa\",\"Middle East & North Africa (excluding high income)\",\"Middle East & North Africa (IDA & IBRD countries)\",\"Middle income\",\"North America\",\"OECD members\",\"Other small states\",\"Pre-demographic dividend\",\"Small states\",\"South Asia\",\"South Asia (IDA & IBRD)\",\"Sub-Saharan Africa\",\"Sub-Saharan Africa (excluding high income)\",\"Sub-Saharan Africa (IDA & IBRD countries)\",\"Upper middle income\",\"World\",\"Afghanistan\",\"Brunei Darussalam\",\"Bulgaria\",\"Congo, Rep.\",\"Costa Rica\",\"Croatia\",\"Cyprus\",\"Ecuador\",\"Estonia\",\"Guinea\",\"Hungary\",\"Jordan\",\"Latvia\",\"Lithuania\",\"Maldives\",\"Malta\",\"Mauritania\",\"Mauritius\",\"Moldova\",\"Montenegro\",\"Namibia\",\"Nepal\",\"Poland\",\"Portugal\",\"Romania\",\"Russian Federation\",\"Rwanda\",\"Samoa\",\"South Africa\",\"Sri Lanka\",\"Suriname\",\"Thailand\",\"Tonga\",\"Ukraine\",\"United Arab Emirates\",\"Uzbekistan\",\"Vanuatu\"],\"legendgroup\":\"\",\"marker\":{\"color\":\"#636efa\",\"size\":[42.0042107259112,60.749633218817,25.9793719398798,3.87205049749413,26.1354636229444,11.8,12.4730192019674,12.5097654139864,6.5,9.5722623681704,9.03661419387849,51.5755911078025,45.8029203609051,17.5450478558544,30.7050742600378,55.4259800151236,42.3855176003618,46.7743344398024,7.8061316555499,13.6,13.4455186867794,13.692414626478,43.6749059047884,30.8393226925758,47.4,33.0,18.1,19.6811863932446,19.7977147255854,26.8346366323156,5.3,5.56906550672951,33.6770321783368,52.1414930659126,30.4072845467373,30.8,30.7784609642552,49.9,49.9461619965341,49.9446395378389,9.6,28.4,43.4,9.6,5.3,32.0,6.2,3.9,2.3,10.7,1.6,63.8,3.3,12.6,3.2,2.7,5.1,5.1,32.2,15.3,12.2,1.9,29.4,22.8,3.7,2.5,5.3,4.1,29.7,14.4,26.4,5.8,15.4,7.1,9.6,7.0,5.4,12.6,19.7],\"sizemode\":\"area\",\"sizeref\":0.017722222222222223,\"symbol\":\"circle\"},\"mode\":\"markers\",\"name\":\"\",\"orientation\":\"v\",\"showlegend\":false,\"x\":[1545.61321503478,1766.94361767929,6419.16102915581,18814.1458170436,3727.93383484603,13138.7246689239,9813.00226050914,9922.04350030871,27420.8134260688,8912.81407575584,9982.81222980684,1779.3132913511,1047.07519807515,7284.44912688649,5718.69000304404,1844.3200096414,1272.35034846518,1461.41110872837,11556.4864563168,8478.6334058771,7873.98078159932,8262.54208532494,1153.2744131558,5526.29613463755,678.653210032779,2405.60357592672,7696.00660755537,3590.64385329545,3589.59535190625,6085.76413323992,68399.102745446,42731.2889452911,13975.166508629,1417.16418953831,12682.8172192726,2136.19289074982,2136.19289074982,1635.21734094322,1634.26533568468,1635.21734094322,10271.8014880384,12316.102461459,355.777826392648,31448.9127482937,12219.3418706779,2540.47321153317,12604.0488374731,17809.0323901126,32745.84375,5965.13287054416,27943.701219882,1189.17599945874,18753.0469453539,4152.75795426388,20930.3982374189,23849.6156993566,10076.3175303966,34881.2912726609,1998.39400265586,9068.98018051209,5274.74484719747,9465.96153027794,4919.18895548026,1229.39420516246,18050.2794441161,24661.1664874576,14946.624968678,12532.05078125,821.171394808138,3857.68974206459,7073.61275411821,3996.57199501251,5026.87949279073,7060.89770696418,4425.97149198516,4827.845703125,44332.3400513163,1993.42447787206,3044.57364031957],\"xaxis\":\"x\",\"y\":[67.4540100097656,51.6556091308594,67.8748931884766,99.3508377075195,74.9784927368164,94.5390472412109,94.8024597167969,94.7359008789062,98.1425933837891,98.9141311645508,98.9848709106445,58.7563896179199,58.2435417175293,86.3695983886719,80.8308181762695,59.0784111022949,63.244571685791,61.8951683044434,95.346321105957,94.1233520507812,93.8251190185547,94.0236511230469,60.1137886047363,80.5986328125,54.0468482971191,71.0304107666016,73.4363021850586,70.4972991943359,70.210693359375,82.9822006225586,98.7035827636719,96.5339965820312,83.1045074462891,57.2519187927246,85.2431716918945,65.5588989257812,65.5588989257812,61.254451751709,61.2505111694336,61.254451751709,94.6587524414062,83.5056228637695,22.6007804870605,96.8600006103516,98.1699981689453,75.370002746582,98.0999984741211,99.2399978637695,99.1500015258789,94.0484924316406,99.879997253418,31.2700004577637,99.0999984741211,98.129997253418,99.9100036621094,99.8499984741211,98.4100036621094,96.4199981689453,62.1699981689453,90.4599990844727,99.5,98.5400009155273,92.3300018310547,63.3300018310547,99.8000030517578,95.9199981689453,98.6999969482422,99.9357223510742,73.3000030517578,99.3000030517578,89.3661193847656,91.6362075805664,93.4000015258789,92.8000030517578,99.5,100.0,97.170768737793,99.9959030151367,88.4000015258789],\"yaxis\":\"y\",\"type\":\"scatter\"}],                        {\"template\":{\"data\":{\"histogram2dcontour\":[{\"type\":\"histogram2dcontour\",\"colorbar\":{\"outlinewidth\":0,\"ticks\":\"\"},\"colorscale\":[[0.0,\"#0d0887\"],[0.1111111111111111,\"#46039f\"],[0.2222222222222222,\"#7201a8\"],[0.3333333333333333,\"#9c179e\"],[0.4444444444444444,\"#bd3786\"],[0.5555555555555556,\"#d8576b\"],[0.6666666666666666,\"#ed7953\"],[0.7777777777777778,\"#fb9f3a\"],[0.8888888888888888,\"#fdca26\"],[1.0,\"#f0f921\"]]}],\"choropleth\":[{\"type\":\"choropleth\",\"colorbar\":{\"outlinewidth\":0,\"ticks\":\"\"}}],\"histogram2d\":[{\"type\":\"histogram2d\",\"colorbar\":{\"outlinewidth\":0,\"ticks\":\"\"},\"colorscale\":[[0.0,\"#0d0887\"],[0.1111111111111111,\"#46039f\"],[0.2222222222222222,\"#7201a8\"],[0.3333333333333333,\"#9c179e\"],[0.4444444444444444,\"#bd3786\"],[0.5555555555555556,\"#d8576b\"],[0.6666666666666666,\"#ed7953\"],[0.7777777777777778,\"#fb9f3a\"],[0.8888888888888888,\"#fdca26\"],[1.0,\"#f0f921\"]]}],\"heatmap\":[{\"type\":\"heatmap\",\"colorbar\":{\"outlinewidth\":0,\"ticks\":\"\"},\"colorscale\":[[0.0,\"#0d0887\"],[0.1111111111111111,\"#46039f\"],[0.2222222222222222,\"#7201a8\"],[0.3333333333333333,\"#9c179e\"],[0.4444444444444444,\"#bd3786\"],[0.5555555555555556,\"#d8576b\"],[0.6666666666666666,\"#ed7953\"],[0.7777777777777778,\"#fb9f3a\"],[0.8888888888888888,\"#fdca26\"],[1.0,\"#f0f921\"]]}],\"heatmapgl\":[{\"type\":\"heatmapgl\",\"colorbar\":{\"outlinewidth\":0,\"ticks\":\"\"},\"colorscale\":[[0.0,\"#0d0887\"],[0.1111111111111111,\"#46039f\"],[0.2222222222222222,\"#7201a8\"],[0.3333333333333333,\"#9c179e\"],[0.4444444444444444,\"#bd3786\"],[0.5555555555555556,\"#d8576b\"],[0.6666666666666666,\"#ed7953\"],[0.7777777777777778,\"#fb9f3a\"],[0.8888888888888888,\"#fdca26\"],[1.0,\"#f0f921\"]]}],\"contourcarpet\":[{\"type\":\"contourcarpet\",\"colorbar\":{\"outlinewidth\":0,\"ticks\":\"\"}}],\"contour\":[{\"type\":\"contour\",\"colorbar\":{\"outlinewidth\":0,\"ticks\":\"\"},\"colorscale\":[[0.0,\"#0d0887\"],[0.1111111111111111,\"#46039f\"],[0.2222222222222222,\"#7201a8\"],[0.3333333333333333,\"#9c179e\"],[0.4444444444444444,\"#bd3786\"],[0.5555555555555556,\"#d8576b\"],[0.6666666666666666,\"#ed7953\"],[0.7777777777777778,\"#fb9f3a\"],[0.8888888888888888,\"#fdca26\"],[1.0,\"#f0f921\"]]}],\"surface\":[{\"type\":\"surface\",\"colorbar\":{\"outlinewidth\":0,\"ticks\":\"\"},\"colorscale\":[[0.0,\"#0d0887\"],[0.1111111111111111,\"#46039f\"],[0.2222222222222222,\"#7201a8\"],[0.3333333333333333,\"#9c179e\"],[0.4444444444444444,\"#bd3786\"],[0.5555555555555556,\"#d8576b\"],[0.6666666666666666,\"#ed7953\"],[0.7777777777777778,\"#fb9f3a\"],[0.8888888888888888,\"#fdca26\"],[1.0,\"#f0f921\"]]}],\"mesh3d\":[{\"type\":\"mesh3d\",\"colorbar\":{\"outlinewidth\":0,\"ticks\":\"\"}}],\"scatter\":[{\"fillpattern\":{\"fillmode\":\"overlay\",\"size\":10,\"solidity\":0.2},\"type\":\"scatter\"}],\"parcoords\":[{\"type\":\"parcoords\",\"line\":{\"colorbar\":{\"outlinewidth\":0,\"ticks\":\"\"}}}],\"scatterpolargl\":[{\"type\":\"scatterpolargl\",\"marker\":{\"colorbar\":{\"outlinewidth\":0,\"ticks\":\"\"}}}],\"bar\":[{\"error_x\":{\"color\":\"#2a3f5f\"},\"error_y\":{\"color\":\"#2a3f5f\"},\"marker\":{\"line\":{\"color\":\"#E5ECF6\",\"width\":0.5},\"pattern\":{\"fillmode\":\"overlay\",\"size\":10,\"solidity\":0.2}},\"type\":\"bar\"}],\"scattergeo\":[{\"type\":\"scattergeo\",\"marker\":{\"colorbar\":{\"outlinewidth\":0,\"ticks\":\"\"}}}],\"scatterpolar\":[{\"type\":\"scatterpolar\",\"marker\":{\"colorbar\":{\"outlinewidth\":0,\"ticks\":\"\"}}}],\"histogram\":[{\"marker\":{\"pattern\":{\"fillmode\":\"overlay\",\"size\":10,\"solidity\":0.2}},\"type\":\"histogram\"}],\"scattergl\":[{\"type\":\"scattergl\",\"marker\":{\"colorbar\":{\"outlinewidth\":0,\"ticks\":\"\"}}}],\"scatter3d\":[{\"type\":\"scatter3d\",\"line\":{\"colorbar\":{\"outlinewidth\":0,\"ticks\":\"\"}},\"marker\":{\"colorbar\":{\"outlinewidth\":0,\"ticks\":\"\"}}}],\"scattermapbox\":[{\"type\":\"scattermapbox\",\"marker\":{\"colorbar\":{\"outlinewidth\":0,\"ticks\":\"\"}}}],\"scatterternary\":[{\"type\":\"scatterternary\",\"marker\":{\"colorbar\":{\"outlinewidth\":0,\"ticks\":\"\"}}}],\"scattercarpet\":[{\"type\":\"scattercarpet\",\"marker\":{\"colorbar\":{\"outlinewidth\":0,\"ticks\":\"\"}}}],\"carpet\":[{\"aaxis\":{\"endlinecolor\":\"#2a3f5f\",\"gridcolor\":\"white\",\"linecolor\":\"white\",\"minorgridcolor\":\"white\",\"startlinecolor\":\"#2a3f5f\"},\"baxis\":{\"endlinecolor\":\"#2a3f5f\",\"gridcolor\":\"white\",\"linecolor\":\"white\",\"minorgridcolor\":\"white\",\"startlinecolor\":\"#2a3f5f\"},\"type\":\"carpet\"}],\"table\":[{\"cells\":{\"fill\":{\"color\":\"#EBF0F8\"},\"line\":{\"color\":\"white\"}},\"header\":{\"fill\":{\"color\":\"#C8D4E3\"},\"line\":{\"color\":\"white\"}},\"type\":\"table\"}],\"barpolar\":[{\"marker\":{\"line\":{\"color\":\"#E5ECF6\",\"width\":0.5},\"pattern\":{\"fillmode\":\"overlay\",\"size\":10,\"solidity\":0.2}},\"type\":\"barpolar\"}],\"pie\":[{\"automargin\":true,\"type\":\"pie\"}]},\"layout\":{\"autotypenumbers\":\"strict\",\"colorway\":[\"#636efa\",\"#EF553B\",\"#00cc96\",\"#ab63fa\",\"#FFA15A\",\"#19d3f3\",\"#FF6692\",\"#B6E880\",\"#FF97FF\",\"#FECB52\"],\"font\":{\"color\":\"#2a3f5f\"},\"hovermode\":\"closest\",\"hoverlabel\":{\"align\":\"left\"},\"paper_bgcolor\":\"white\",\"plot_bgcolor\":\"#E5ECF6\",\"polar\":{\"bgcolor\":\"#E5ECF6\",\"angularaxis\":{\"gridcolor\":\"white\",\"linecolor\":\"white\",\"ticks\":\"\"},\"radialaxis\":{\"gridcolor\":\"white\",\"linecolor\":\"white\",\"ticks\":\"\"}},\"ternary\":{\"bgcolor\":\"#E5ECF6\",\"aaxis\":{\"gridcolor\":\"white\",\"linecolor\":\"white\",\"ticks\":\"\"},\"baxis\":{\"gridcolor\":\"white\",\"linecolor\":\"white\",\"ticks\":\"\"},\"caxis\":{\"gridcolor\":\"white\",\"linecolor\":\"white\",\"ticks\":\"\"}},\"coloraxis\":{\"colorbar\":{\"outlinewidth\":0,\"ticks\":\"\"}},\"colorscale\":{\"sequential\":[[0.0,\"#0d0887\"],[0.1111111111111111,\"#46039f\"],[0.2222222222222222,\"#7201a8\"],[0.3333333333333333,\"#9c179e\"],[0.4444444444444444,\"#bd3786\"],[0.5555555555555556,\"#d8576b\"],[0.6666666666666666,\"#ed7953\"],[0.7777777777777778,\"#fb9f3a\"],[0.8888888888888888,\"#fdca26\"],[1.0,\"#f0f921\"]],\"sequentialminus\":[[0.0,\"#0d0887\"],[0.1111111111111111,\"#46039f\"],[0.2222222222222222,\"#7201a8\"],[0.3333333333333333,\"#9c179e\"],[0.4444444444444444,\"#bd3786\"],[0.5555555555555556,\"#d8576b\"],[0.6666666666666666,\"#ed7953\"],[0.7777777777777778,\"#fb9f3a\"],[0.8888888888888888,\"#fdca26\"],[1.0,\"#f0f921\"]],\"diverging\":[[0,\"#8e0152\"],[0.1,\"#c51b7d\"],[0.2,\"#de77ae\"],[0.3,\"#f1b6da\"],[0.4,\"#fde0ef\"],[0.5,\"#f7f7f7\"],[0.6,\"#e6f5d0\"],[0.7,\"#b8e186\"],[0.8,\"#7fbc41\"],[0.9,\"#4d9221\"],[1,\"#276419\"]]},\"xaxis\":{\"gridcolor\":\"white\",\"linecolor\":\"white\",\"ticks\":\"\",\"title\":{\"standoff\":15},\"zerolinecolor\":\"white\",\"automargin\":true,\"zerolinewidth\":2},\"yaxis\":{\"gridcolor\":\"white\",\"linecolor\":\"white\",\"ticks\":\"\",\"title\":{\"standoff\":15},\"zerolinecolor\":\"white\",\"automargin\":true,\"zerolinewidth\":2},\"scene\":{\"xaxis\":{\"backgroundcolor\":\"#E5ECF6\",\"gridcolor\":\"white\",\"linecolor\":\"white\",\"showbackground\":true,\"ticks\":\"\",\"zerolinecolor\":\"white\",\"gridwidth\":2},\"yaxis\":{\"backgroundcolor\":\"#E5ECF6\",\"gridcolor\":\"white\",\"linecolor\":\"white\",\"showbackground\":true,\"ticks\":\"\",\"zerolinecolor\":\"white\",\"gridwidth\":2},\"zaxis\":{\"backgroundcolor\":\"#E5ECF6\",\"gridcolor\":\"white\",\"linecolor\":\"white\",\"showbackground\":true,\"ticks\":\"\",\"zerolinecolor\":\"white\",\"gridwidth\":2}},\"shapedefaults\":{\"line\":{\"color\":\"#2a3f5f\"}},\"annotationdefaults\":{\"arrowcolor\":\"#2a3f5f\",\"arrowhead\":0,\"arrowwidth\":1},\"geo\":{\"bgcolor\":\"white\",\"landcolor\":\"#E5ECF6\",\"subunitcolor\":\"white\",\"showland\":true,\"showlakes\":true,\"lakecolor\":\"white\"},\"title\":{\"x\":0.05},\"mapbox\":{\"style\":\"light\"}}},\"xaxis\":{\"anchor\":\"y\",\"domain\":[0.0,1.0],\"title\":{\"text\":\"GDP Per Capita\"},\"showline\":true,\"linecolor\":\"black\",\"showgrid\":false},\"yaxis\":{\"anchor\":\"x\",\"domain\":[0.0,1.0],\"title\":{\"text\":\"Female Literacy Rate (%)\"},\"showline\":true,\"showgrid\":false,\"linecolor\":\"black\"},\"legend\":{\"tracegroupgap\":0,\"itemsizing\":\"constant\"},\"title\":{\"text\":\"Female Literacy vs. GDP Per Capita (2021)\"},\"plot_bgcolor\":\"white\",\"showlegend\":false},                        {\"responsive\": true}                    ).then(function(){\n",
       "                            \n",
       "var gd = document.getElementById('e66106a5-f81f-499b-9fb9-2014ef80f242');\n",
       "var x = new MutationObserver(function (mutations, observer) {{\n",
       "        var display = window.getComputedStyle(gd).display;\n",
       "        if (!display || display === 'none') {{\n",
       "            console.log([gd, 'removed!']);\n",
       "            Plotly.purge(gd);\n",
       "            observer.disconnect();\n",
       "        }}\n",
       "}});\n",
       "\n",
       "// Listen for the removal of the full notebook cells\n",
       "var notebookContainer = gd.closest('#notebook-container');\n",
       "if (notebookContainer) {{\n",
       "    x.observe(notebookContainer, {childList: true});\n",
       "}}\n",
       "\n",
       "// Listen for the clearing of the current output cell\n",
       "var outputEl = gd.closest('.output');\n",
       "if (outputEl) {{\n",
       "    x.observe(outputEl, {childList: true});\n",
       "}}\n",
       "\n",
       "                        })                };                });            </script>        </div>"
      ]
     },
     "metadata": {},
     "output_type": "display_data"
    }
   ],
   "source": [
    "import plotly.express as px\n",
    "import plotly.graph_objects as go\n",
    "\n",
    "fig = px.scatter(df_cleaned,\n",
    "                 x='GDP per Capita (current US$)',\n",
    "                 y='Literacy rate, adult female (% of females ages 15 and above)',\n",
    "                 size='Infant Mortality Rate (per 1,000 live births)',\n",
    "                 hover_name='Country',\n",
    "                 title='Female Literacy vs. GDP Per Capita (2021)',\n",
    "                 labels={\n",
    "                     'GDP per Capita (current US$)': 'GDP Per Capita',\n",
    "                     'Literacy rate, adult female (% of females ages 15 and above)': 'Female Literacy Rate (%)',\n",
    "                     'Infant Mortality Rate (per 1,000 live births)': 'Infant Mortality Rate'\n",
    "                 },\n",
    "                 size_max=60)\n",
    "\n",
    "fig.update_layout(\n",
    "    xaxis = dict(\n",
    "    showline = True,\n",
    "    linecolor = 'black',\n",
    "    showgrid = False),\n",
    "    yaxis = dict(\n",
    "        showline = True,\n",
    "        showgrid = False,\n",
    "        linecolor = 'black'\n",
    "    ),\n",
    "    plot_bgcolor = 'white',\n",
    "    showlegend = False\n",
    ")\n",
    "\n",
    "fig.show()"
   ]
  },
  {
   "cell_type": "code",
   "execution_count": null,
   "id": "69b769d4",
   "metadata": {},
   "outputs": [],
   "source": []
  }
 ],
 "metadata": {
  "kernelspec": {
   "display_name": "Python 3 (ipykernel)",
   "language": "python",
   "name": "python3"
  },
  "language_info": {
   "codemirror_mode": {
    "name": "ipython",
    "version": 3
   },
   "file_extension": ".py",
   "mimetype": "text/x-python",
   "name": "python",
   "nbconvert_exporter": "python",
   "pygments_lexer": "ipython3",
   "version": "3.11.6"
  }
 },
 "nbformat": 4,
 "nbformat_minor": 5
}
